{
 "cells": [
  {
   "cell_type": "markdown",
   "metadata": {},
   "source": [
    "## Part 1"
   ]
  },
  {
   "cell_type": "code",
   "execution_count": null,
   "metadata": {},
   "outputs": [],
   "source": [
    "with open ('day_2.txt', 'r') as file:\n",
    "    file = file.read()\n",
    "    file = file.split('\\n')\n",
    "\n",
    "del file[-1]\n",
    "\n",
    "print(file[:10])"
   ]
  },
  {
   "cell_type": "markdown",
   "metadata": {},
   "source": [
    "Use 'regular expressions' to separate data into three parts: 'up', 'down', 'forward'."
   ]
  },
  {
   "cell_type": "code",
   "execution_count": null,
   "metadata": {},
   "outputs": [],
   "source": [
    "import re\n",
    "\n",
    "def filter_by_variable(array, variable):\n",
    "    #filter varibles by name\n",
    "    r = re.compile(variable)\n",
    "    variable_list = list(filter(r.match, array))\n",
    "\n",
    "    #pull numbers to array\n",
    "    dat_re = re.compile(r'\\d+')\n",
    "    variable_num = [int(dat_re.search(x).group())\n",
    "               for x in variable_list if dat_re.search(x)]\n",
    "\n",
    "    #result is sum of all values in array\n",
    "    return sum(variable_num)\n",
    "\n",
    "#difference between up values and down values \n",
    "diff_up_down = abs(filter_by_variable(file, 'up') -\n",
    "                   filter_by_variable(file, 'down'))\n",
    "\n",
    "# multiply difference of up and down by forward values\n",
    "mult = diff_up_down * filter_by_variable(file, 'forward')\n",
    "\n",
    "print(mult)\n"
   ]
  },
  {
   "cell_type": "markdown",
   "metadata": {},
   "source": [
    "## Part 2\n",
    "\n",
    "Manipulate array to create pairs of value and integer. Use pairs to calculate 'depth', 'aim', 'horizontal'."
   ]
  },
  {
   "cell_type": "code",
   "execution_count": 6,
   "metadata": {},
   "outputs": [
    {
     "name": "stdout",
     "output_type": "stream",
     "text": [
      "1982495697\n"
     ]
    }
   ],
   "source": [
    "horizontal = 0\n",
    "depth = 0\n",
    "aim = 0\n",
    "\n",
    "#separate each pair \n",
    "for line in file:\n",
    "    l = line.split()\n",
    "    #look at first element in the pair, determine the calculations\n",
    "    if l[0] == 'forward':\n",
    "        horizontal += int(l[1])\n",
    "        depth += aim * int(l[1])\n",
    "    elif l[0] == 'down':\n",
    "        aim += int(l[1])\n",
    "    elif l[0] == 'up':\n",
    "        aim -= int(l[1])\n",
    "\n",
    "print(depth*horizontal)"
   ]
  }
 ],
 "metadata": {
  "interpreter": {
   "hash": "aee8b7b246df8f9039afb4144a1f6fd8d2ca17a180786b69acc140d282b71a49"
  },
  "kernelspec": {
   "display_name": "Python 3.9.5 64-bit",
   "name": "python3"
  },
  "language_info": {
   "codemirror_mode": {
    "name": "ipython",
    "version": 3
   },
   "file_extension": ".py",
   "mimetype": "text/x-python",
   "name": "python",
   "nbconvert_exporter": "python",
   "pygments_lexer": "ipython3",
   "version": "3.9.5"
  },
  "orig_nbformat": 4
 },
 "nbformat": 4,
 "nbformat_minor": 2
}
