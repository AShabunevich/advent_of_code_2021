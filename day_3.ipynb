{
 "cells": [
  {
   "cell_type": "markdown",
   "metadata": {},
   "source": [
    "## Part 1"
   ]
  },
  {
   "cell_type": "code",
   "execution_count": 29,
   "metadata": {},
   "outputs": [
    {
     "name": "stdout",
     "output_type": "stream",
     "text": [
      "['010100110111', '101001010000', '101011110010', '100100011101', '101000011000', '110011011110', '111010010100', '001111100000', '111101100001', '100010101110']\n"
     ]
    }
   ],
   "source": [
    "with open('day_3.txt', 'r') as file:\n",
    "    file = file.read()\n",
    "    file = file.strip()\n",
    "    file = file.split('\\n')\n",
    "\n",
    "print(file[:10])"
   ]
  },
  {
   "cell_type": "code",
   "execution_count": 31,
   "metadata": {},
   "outputs": [
    {
     "name": "stdout",
     "output_type": "stream",
     "text": [
      "4001724\n"
     ]
    }
   ],
   "source": [
    "gamma = ''\n",
    "epsilon = ''\n",
    "\n",
    "# index of each binary number(rows)\n",
    "for i in range(len(file[0])):\n",
    "    # array of values for each column\n",
    "    col = [row[i] for row in file]\n",
    "    # calculate 'gamma' and 'epsilon'\n",
    "    gamma += max(set(col), key=col.count)\n",
    "    epsilon += min(set(col), key=col.count)\n",
    "\n",
    "#convert binary to integer\n",
    "gamma_int = int(gamma, 2)\n",
    "epsilon_int = int(epsilon, 2)\n",
    "\n",
    "# result\n",
    "mult = gamma_int * epsilon_int\n",
    "print(mult)"
   ]
  },
  {
   "cell_type": "markdown",
   "metadata": {},
   "source": [
    "## Part 2"
   ]
  },
  {
   "cell_type": "code",
   "execution_count": null,
   "metadata": {},
   "outputs": [],
   "source": [
    "def reduce_codes(codes, maximize, alt):\n",
    "    # index of each binary number(rows)\n",
    "    for n in range(len(codes[0])):\n",
    "        # array of values for each column\n",
    "        col = [row[n] for row in codes]\n",
    "        # initializing\n",
    "        gamma = ''\n",
    "        epsilon = ''\n",
    "        # calculate 'gamma' and 'epsilon'\n",
    "        gamma += max(set(col), key=col.count)\n",
    "        epsilon += min(set(col), key=col.count)\n",
    "        # based on condition, set max or min values: 0 or 1\n",
    "        match = gamma if maximize else epsilon\n",
    "        # updates original array by keeping most popular value,\n",
    "        # or least popular value based on bits in each row\n",
    "        if gamma != epsilon:\n",
    "            codes = [x for x in codes if x[n] == match]\n",
    "        # if both 0 and one equally comman:\n",
    "        #   oxygen = keep values with 1\n",
    "        #   co2 = keep values with 0\n",
    "        else:\n",
    "            codes = [x for x in codes if x[n] == alt]\n",
    "        #return result as single value\n",
    "        if len(codes) == 1:\n",
    "            return \"\".join(codes)\n",
    "\n",
    "\n",
    "oxygen = reduce_codes(file, True, \"1\")\n",
    "co2 = reduce_codes(file, False, \"0\")\n",
    "life_support_rating = int(oxygen, 2) * int(co2, 2)\n",
    "print(life_support_rating)"
   ]
  }
 ],
 "metadata": {
  "interpreter": {
   "hash": "aee8b7b246df8f9039afb4144a1f6fd8d2ca17a180786b69acc140d282b71a49"
  },
  "kernelspec": {
   "display_name": "Python 3.9.5 64-bit",
   "name": "python3"
  },
  "language_info": {
   "codemirror_mode": {
    "name": "ipython",
    "version": 3
   },
   "file_extension": ".py",
   "mimetype": "text/x-python",
   "name": "python",
   "nbconvert_exporter": "python",
   "pygments_lexer": "ipython3",
   "version": "3.9.5"
  },
  "orig_nbformat": 4
 },
 "nbformat": 4,
 "nbformat_minor": 2
}
