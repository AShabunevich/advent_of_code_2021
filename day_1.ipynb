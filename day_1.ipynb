{
 "cells": [
  {
   "cell_type": "markdown",
   "metadata": {},
   "source": [
    "## Part 1\n",
    "Open the text file and convert it to a list. Since list consists of `'str'`, need to change it to `'int'`."
   ]
  },
  {
   "cell_type": "code",
   "execution_count": 1,
   "metadata": {},
   "outputs": [
    {
     "name": "stdout",
     "output_type": "stream",
     "text": [
      "['127', '147', '148', '147', '146', '153', '154', '167', '184', '181']\n"
     ]
    },
    {
     "data": {
      "text/plain": [
       "str"
      ]
     },
     "execution_count": 1,
     "metadata": {},
     "output_type": "execute_result"
    }
   ],
   "source": [
    "with open ('day_1.txt', 'r') as file:\n",
    "    lines = file.read()\n",
    "    lines = lines.split('\\n')\n",
    "del lines[-1]\n",
    "\n",
    "print(lines[:10])\n",
    "type(lines[0])\n"
   ]
  },
  {
   "cell_type": "markdown",
   "metadata": {},
   "source": [
    "Using list comprehension, convert all elements in a list to `'int'`."
   ]
  },
  {
   "cell_type": "code",
   "execution_count": 2,
   "metadata": {},
   "outputs": [
    {
     "name": "stdout",
     "output_type": "stream",
     "text": [
      "[127, 147, 148, 147, 146, 153, 154, 167, 184, 181]\n"
     ]
    },
    {
     "data": {
      "text/plain": [
       "int"
      ]
     },
     "execution_count": 2,
     "metadata": {},
     "output_type": "execute_result"
    }
   ],
   "source": [
    "line_list = [int(i) for i in lines]\n",
    "\n",
    "print(line_list[:10])\n",
    "type(line_list[0])"
   ]
  },
  {
   "cell_type": "markdown",
   "metadata": {},
   "source": [
    "Compare each element to the next element in the list, determins the number increases between two elements."
   ]
  },
  {
   "cell_type": "code",
   "execution_count": 4,
   "metadata": {},
   "outputs": [
    {
     "name": "stdout",
     "output_type": "stream",
     "text": [
      "Number of increases: 1602\n"
     ]
    }
   ],
   "source": [
    "def find_increases(array):\n",
    "    length_array = len(array)\n",
    "    increase = 0\n",
    "\n",
    "    #compare two elements in the list order\n",
    "    #and record number of increses\n",
    "    for i in range(0, length_array-1):\n",
    "        if array[i] < array[i+1]:\n",
    "            increase += 1\n",
    "    \n",
    "    return increase\n",
    "\n",
    "print('Number of increases:', find_increases(line_list))\n"
   ]
  },
  {
   "cell_type": "markdown",
   "metadata": {},
   "source": [
    "## Part 2"
   ]
  },
  {
   "cell_type": "markdown",
   "metadata": {},
   "source": [
    "Create function `sum_of_three` to calculate the sum of three integers in list, increasing by one position."
   ]
  },
  {
   "cell_type": "code",
   "execution_count": 5,
   "metadata": {},
   "outputs": [],
   "source": [
    "def sum_of_three(array):\n",
    "    length_array = len(array)\n",
    "    sums = []\n",
    "\n",
    "    for i in range(length_array-2):\n",
    "        sums.append(array[i]+array[i+1]+array[i+2])\n",
    "    \n",
    "    return sums"
   ]
  },
  {
   "cell_type": "markdown",
   "metadata": {},
   "source": [
    "Using `sum_of_three` and `find_increases` compare each value to the next value and count number of increases."
   ]
  },
  {
   "cell_type": "code",
   "execution_count": 10,
   "metadata": {},
   "outputs": [
    {
     "name": "stdout",
     "output_type": "stream",
     "text": [
      "1633\n"
     ]
    }
   ],
   "source": [
    "print(find_increases(sum_of_three(line_list)))"
   ]
  }
 ],
 "metadata": {
  "interpreter": {
   "hash": "aee8b7b246df8f9039afb4144a1f6fd8d2ca17a180786b69acc140d282b71a49"
  },
  "kernelspec": {
   "display_name": "Python 3.9.5 64-bit",
   "name": "python3"
  },
  "language_info": {
   "codemirror_mode": {
    "name": "ipython",
    "version": 3
   },
   "file_extension": ".py",
   "mimetype": "text/x-python",
   "name": "python",
   "nbconvert_exporter": "python",
   "pygments_lexer": "ipython3",
   "version": "3.9.5"
  },
  "orig_nbformat": 4
 },
 "nbformat": 4,
 "nbformat_minor": 2
}
